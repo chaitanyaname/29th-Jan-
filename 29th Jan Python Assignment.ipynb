{
 "cells": [
  {
   "cell_type": "markdown",
   "metadata": {},
   "source": [
    "1) who developed python programming laguage"
   ]
  },
  {
   "cell_type": "markdown",
   "metadata": {},
   "source": [
    "Guido van Rossum is credited with developing the Python programming language. He began working on Python in the late 1980s at Centrum Wiskunde & Informatica (CWI) in the Netherlands. The first official release of Python was in 1991."
   ]
  },
  {
   "cell_type": "markdown",
   "metadata": {},
   "source": [
    "2. which type of programming does python support?\n"
   ]
  },
  {
   "cell_type": "markdown",
   "metadata": {},
   "source": [
    "Python is a **general-purpose programming language**. This means it can be used for a wide variety of programming tasks across different domains. Here are some areas where Python excels:\n",
    "\n",
    "- **Web Development:** Python frameworks like Django and Flask are popular for building web applications and APIs.\n",
    "- **Data Science and Machine Learning:** Libraries like NumPy, Pandas, Scikit-learn, and TensorFlow make Python a powerful tool for data analysis, manipulation, and machine learning algorithms.\n",
    "- **Scripting and Automation:** Python's simplicity and readability make it well-suited for automating tasks and scripting various processes.\n",
    "- **Scientific Computing:** Libraries like SciPy and Matplotlib provide functionalities for scientific calculations and data visualization.\n",
    "- **Game Development:** Frameworks like Pygame and PyOpenGL can be used to create games, although Python might not be the most performant choice for very complex games.\n",
    "- **Software Development:** Python is a good choice for rapid prototyping and building back-end services due to its clear syntax and ease of use.\n",
    "\n",
    "Python's versatility and extensive ecosystem of libraries contribute to its widespread adoption. If you have a specific programming task in mind, it's worth checking if there are Python libraries or frameworks that can help you achieve your goals."
   ]
  },
  {
   "cell_type": "markdown",
   "metadata": {},
   "source": [
    "3. is python case sensitive when dealing with identifiers?\n"
   ]
  },
  {
   "cell_type": "markdown",
   "metadata": {},
   "source": [
    "Yes, Python is case-sensitive when dealing with identifiers.This means that uppercase and lowercase letters are considered distinct. Here's why case sensitivity matters:\n",
    "\n",
    "- **Clarity and Consistency:** Enforces consistent usage of variable names, function names, and other identifiers, improving code readability.\n",
    "- **Preventing Conflicts:** Distinguishes between identifiers that might otherwise appear similar, leading to potential errors.\n",
    "\n",
    "**Examples:**\n",
    "\n",
    "```python\n",
    "# Valid (different variables)\n",
    "message = \"Hello\"\n",
    "MESSAGE = \"World\"\n",
    "\n",
    "# Invalid (would cause an error)\n",
    "name = \"Alice\"\n",
    "Name = \"Bob\"  # Name would overwrite name\n",
    "```\n"
   ]
  },
  {
   "cell_type": "markdown",
   "metadata": {},
   "source": [
    "4. what is the correct extension of the python file\n"
   ]
  },
  {
   "cell_type": "markdown",
   "metadata": {},
   "source": [
    "The correct extension for a Python file is **.py**. \n",
    "\n",
    "When you save a Python program, you should use the `.py` extension to indicate that it contains Python code. This helps operating systems and other programs identify the file type and potentially use the appropriate interpreter (like CPython) to run the code.\n",
    "\n",
    "Here are some additional points to keep in mind:\n",
    "\n",
    "- **Case Sensitivity:** While Python code itself is not case-sensitive, filenames (including extensions) are generally case-sensitive on most operating systems. So, `myfile.py` and `MyFile.py` would be considered different files.\n",
    "- **Hidden Files:** In some operating systems, files starting with a dot (`.`) are hidden by default. You might need to adjust your file explorer settings to see `.py` files if they are hidden.\n",
    "- **Alternative Extensions (Rare):** In very rare cases, you might encounter Python files with extensions like `.pyc` (compiled Python bytecode) or `.pyi` (stub files for type hinting). However, for regular Python source code, `.py` is the standard extension."
   ]
  },
  {
   "cell_type": "markdown",
   "metadata": {},
   "source": [
    "5. is python code compiled or interpreted?"
   ]
  },
  {
   "cell_type": "markdown",
   "metadata": {},
   "source": [
    "Python is often referred to as an **interpreted language**. Here's a breakdown of what that means:\n",
    "\n",
    "**Compiled vs. Interpreted Languages:**\n",
    "\n",
    "- **Compiled Languages:** Source code (e.g., C++, Java) is translated into machine code (specific to a processor) by a compiler. This machine code can then be executed directly by the computer's CPU.\n",
    "\n",
    "- **Interpreted Languages:** Source code (e.g., Python, JavaScript) is not directly converted to machine code. Instead, an interpreter program reads the code line by line and executes it on the fly.\n",
    "\n",
    "**Python's Interpretation Process:**\n",
    "\n",
    "1. **Source Code:** You write your Python code in a file with a `.py` extension.\n",
    "2. **Interpreter:** When you run the code, the Python interpreter (like CPython) comes into play.\n",
    "3. **Bytecode Generation (Optional):** In some cases, the interpreter might create an intermediate representation called bytecode. This bytecode is optimized for faster execution but is still not machine code.\n",
    "4. **Execution:** The interpreter translates the source code or bytecode into instructions that the CPU can understand and executes them one by one.\n",
    "\n",
    "**Nuances:**\n",
    "\n",
    "- While Python is primarily interpreted, there are situations where bytecode generation can occur (implementation detail).\n",
    "- JIT (Just-In-Time) compilation: Some Python implementations might use JIT compilation to improve performance for frequently executed code sections. It essentially compiles bytecode to machine code at runtime.\n",
    "\n",
    "**Key Points:**\n",
    "\n",
    "- Interpretation allows for more flexibility and easier debugging compared to compiled languages.\n",
    "- Compiled languages generally offer better performance as machine code is directly executed. However, this performance difference is often less significant with modern JIT techniques employed in some interpreters.\n",
    "\n",
    "I hope this explanation clarifies Python's interpretation process!"
   ]
  },
  {
   "cell_type": "markdown",
   "metadata": {},
   "source": [
    "6. name a few blocks of code used to define in python  language?"
   ]
  },
  {
   "cell_type": "markdown",
   "metadata": {},
   "source": [
    "In Python, there are several ways to define blocks of code, each serving different purposes:\n",
    "\n",
    "1. **Indentation Blocks:** Python relies on indentation to define code blocks, unlike other languages that use curly braces (`{}`). Consistent indentation is crucial for readability and structure in Python. Examples of indentation blocks include:\n",
    "   - **Function Definitions:** When you define a function, the indented code within `def` and `return` statements becomes the function body.\n",
    "   - **Conditional Statements (if/else/elif):** The indented code block after `if`, `else`, or `elif` represents the statements to be executed if that condition is True.\n",
    "   - **Loops (for/while):** The indented code block after `for` or `while` defines the statements to be executed repeatedly within the loop.\n",
    "\n",
    "2. **`def` Statements:** These are used to define functions, which are reusable blocks of code that perform specific tasks. The function body is defined using indentation after the `def` keyword and `return` statement.\n",
    "\n",
    "3. **`class` Statements:** These are used to define classes, which are blueprints for creating objects. The class body, containing attributes and methods, is defined using indentation after the `class` keyword.\n",
    "\n",
    "4. **`try`/`except` Blocks:** These are used for error handling. The `try` block contains code that might raise exceptions, and the `except` block(s) handle specific exceptions that might occur.\n",
    "\n",
    "5. **`with` Statements:** These are used for resource management, ensuring proper closing of resources like files or network connections. The indented code block after `with` executes with the resource guaranteed to be closed even if exceptions occur.\n"
   ]
  },
  {
   "cell_type": "markdown",
   "metadata": {},
   "source": [
    "7. state a character used to give single line comments in python ?\n"
   ]
  },
  {
   "cell_type": "markdown",
   "metadata": {},
   "source": [
    "The character used to give single-line comments in Python is the hash symbol (`#`). \n",
    "\n",
    "Here's how it works:\n",
    "\n",
    "- Anything written after the `#` symbol on a line is ignored by the Python interpreter. This means it won't be executed as part of your program.\n",
    "- You can use single-line comments to explain your code, document specific parts, or temporarily disable code for testing purposes.\n",
    "\n",
    "**Example:**\n",
    "\n",
    "\n"
   ]
  },
  {
   "cell_type": "code",
   "execution_count": 4,
   "metadata": {},
   "outputs": [
    {
     "name": "stdout",
     "output_type": "stream",
     "text": [
      "5\n",
      "The value of x is: 5\n"
     ]
    }
   ],
   "source": [
    "#python\n",
    "x = 5  # This line assigns the value 5 to the variable x\n",
    "print(x)  # This line prints the value of x\n",
    "\n",
    "# This is a single-line comment explaining the previous line\n",
    "print(\"The value of x is:\", x)\n",
    "\n"
   ]
  },
  {
   "cell_type": "markdown",
   "metadata": {},
   "source": [
    "8. mention function which can help us to find the version of python that we are current working on?"
   ]
  },
  {
   "cell_type": "markdown",
   "metadata": {},
   "source": [
    "There are two main ways to find the Python version you're currently working with:\n",
    "\n",
    "**Method 1: Using the `sys.version` attribute**\n",
    "\n",
    "- Import the `sys` module, which provides system-specific parameters and functions.\n",
    "- Access the `sys.version` attribute, which is a string containing information about the Python version.\n",
    "\n",
    "```python\n",
    "import sys\n",
    "print(sys.version)\n",
    "```\n",
    "\n",
    "**Method 2: Using the `platform.python_version()` function**\n",
    "\n",
    "- Import the `platform` module, which provides system information.\n",
    "- Use the `platform.python_version()` function to get a string representing the Python version.\n",
    "\n",
    "```python\n",
    "import platform\n",
    "print(platform.python_version())\n",
    "```\n",
    "\n",
    "\n",
    "\n",
    "\n"
   ]
  },
  {
   "cell_type": "markdown",
   "metadata": {},
   "source": [
    "9. python supports the creation of anonymous functions at runtime , using a construct called lambda."
   ]
  },
  {
   "cell_type": "markdown",
   "metadata": {},
   "source": [
    "10. what does pip stand for python"
   ]
  },
  {
   "cell_type": "markdown",
   "metadata": {},
   "source": [
    "According to Ian Bicking, the creator of pip, `pip` is a **recursive acronym**, which means its meaning is formed by referencing itself. Here are the two interpretations:\n",
    "\n",
    "1. **Preferred Installer Program:** This emphasizes pip's role as the recommended way to install and manage Python packages.\n",
    "2. **PIP Installs Packages:** This directly describes pip's functionality of installing software packages for Python.\n",
    "\n",
    "While both interpretations are valid, it's important to remember that it's primarily a fun way to name the tool, and its core functionality lies in package management."
   ]
  },
  {
   "cell_type": "markdown",
   "metadata": {},
   "source": [
    "11. mention a few built in function in python?\n"
   ]
  },
  {
   "cell_type": "markdown",
   "metadata": {},
   "source": []
  },
  {
   "cell_type": "markdown",
   "metadata": {},
   "source": [
    "Python offers a rich set of built-in functions that cover various tasks. Here are some commonly used ones:\n",
    "\n",
    "**Data Types and Conversion:**\n",
    "\n",
    "- `int(x)`: Converts `x` to an integer.\n",
    "- `float(x)`: Converts `x` to a floating-point number.\n",
    "- `str(x)`: Converts `x` to a string.\n",
    "- `bool(x)`: Converts `x` to a boolean (True or False).\n",
    "- `list(x)`: Converts `x` to a list (ordered collection of items).\n",
    "- `tuple(x)`: Converts `x` to a tuple (immutable ordered collection).\n",
    "- `dict(x)`: Converts `x` to a dictionary (collection of key-value pairs).\n",
    "\n",
    "**Math:**\n",
    "\n",
    "- `abs(x)`: Returns the absolute value of a number.\n",
    "- `max(x, y, ...)`: Returns the largest number among the arguments.\n",
    "- `min(x, y, ...)`: Returns the smallest number among the arguments.\n",
    "- `pow(x, y)`: Returns `x` raised to the power of `y`.\n",
    "- `round(x, n=0)`: Rounds a number to `n` decimal places.\n",
    "\n",
    "**Input/Output:**\n",
    "\n",
    "- `input(prompt)`: Gets user input from the console and returns it as a string.\n",
    "- `print(x, y, ..., sep=' ', end='\\n')`: Prints objects to the console, with options for separators and end characters.\n",
    "\n",
    "**Strings:**\n",
    "\n",
    "- `len(s)`: Returns the length of a string.\n",
    "- `s.upper()`: Returns a string with all uppercase characters.\n",
    "- `s.lower()`: Returns a string with all lowercase characters.\n",
    "- `s.find(sub, start=0, end=len(string))`: Searches for a substring within the string and returns its starting index.\n",
    "\n",
    "**Control Flow:**\n",
    "\n",
    "- `if condition:`: Executes a block of code if the condition is True.\n",
    "- `else:`: Executes an alternative block of code if the `if` condition is False.\n",
    "- `elif condition:`: Provides additional conditions to check after an initial `if` statement.\n",
    "- `for item in sequence:`: Iterates over a sequence (list, tuple, string) and executes code for each item.\n",
    "- `while condition:`: Executes a block of code repeatedly as long as the condition is True.\n",
    "\n",
    "**List and Tuples:**\n",
    "\n",
    "- `list.append(x)`: Adds an item to the end of a list.\n",
    "- `list.insert(i, x)`: Inserts an item at a specific index in a list.\n",
    "- `list.remove(x)`: Removes the first occurrence of an item from a list.\n",
    "- `tuple.index(x)`: Returns the index of the first occurrence of an item in a tuple.\n",
    "\n",
    "**Dictionaries:**\n",
    "\n",
    "- `dict.get(key, default=None)`: Returns the value associated with a key in a dictionary. If the key doesn't exist, it returns the default value (None by default).\n",
    "- `dict.keys()`: Returns a view of the dictionary's keys.\n",
    "- `dict.values()`: Returns a view of the dictionary's values.\n",
    "- `dict.items()`: Returns a view of the dictionary's key-value pairs as tuples.\n",
    "\n"
   ]
  },
  {
   "cell_type": "markdown",
   "metadata": {},
   "source": [
    "12) what is the maximum possible length of an identifier in python?\n"
   ]
  },
  {
   "cell_type": "markdown",
   "metadata": {},
   "source": [
    "In contrast to some other languages, Python doesn't have a strict upper limit on the length of an identifier (variable names, function names, etc.). However, there are practical constraints to consider:\n",
    "\n",
    "- **Readability:** Extremely long names can make code difficult to understand and maintain. It's generally recommended to keep names concise and descriptive while conveying their purpose.\n",
    "- **PEP 8 Style Guide:** The Python Enhancement Proposal 8 (PEP 8) is a widely adopted style guide for writing Python code. It recommends limiting all lines (including identifier names) to a maximum of 79 characters. This promotes readability and ensures compatibility with most code editors and linters.\n",
    "- **Implementation Details:** While the language specification doesn't impose a hard limit, some Python implementations might have internal limitations on identifier length. In practice, these limits are typically very high and unlikely to be encountered in everyday use.\n",
    "\n",
    "Here's a summary:\n",
    "\n",
    "- **Technically:** No strict upper limit.\n",
    "- **Readability:** Aim for concise and descriptive names.\n",
    "- **PEP 8:** Limit lines (including identifiers) to 79 characters.\n",
    "- **Implementation:** Potential internal limits (usually very high).\n",
    "\n"
   ]
  },
  {
   "cell_type": "markdown",
   "metadata": {},
   "source": [
    "13) what are the benifits of using python?"
   ]
  },
  {
   "cell_type": "markdown",
   "metadata": {},
   "source": [
    "Python offers a multitude of benefits that make it a popular and versatile programming language. Here are some key advantages:\n",
    "\n",
    "**Readability and Ease of Learning:**\n",
    "\n",
    "- **Simple Syntax:** Python's syntax is clear, concise, and uses English-like keywords, making it easier to read and understand compared to languages with complex syntax. This is especially helpful for beginners.\n",
    "- **Focus on Readability:** Python emphasizes code readability by relying on indentation to define code blocks instead of curly braces. This promotes well-structured and maintainable code.\n",
    "\n",
    "**Versatility and Wide Applicability:**\n",
    "\n",
    "- **General-Purpose:** Python is not limited to a specific domain. It can be used for various tasks, including web development, data science, machine learning, scripting, automation, scientific computing, game development, and more.\n",
    "- **Extensive Libraries and Frameworks:** Python boasts a vast ecosystem of third-party libraries and frameworks that provide pre-built functionality for various tasks. This saves you time and effort by leveraging existing solutions.\n",
    "\n",
    "**Rapid Prototyping and Development:**\n",
    "\n",
    "- **High-Level Language:** Python abstracts away low-level details, allowing developers to focus on the core logic of their programs. This speeds up the development process, especially for rapid prototyping and iterations.\n",
    "- **Interpreted Language:** Python is an interpreted language, meaning code is executed line by line without a separate compilation step. This facilitates faster development cycles and easier debugging.\n",
    "\n",
    "**Large and Active Community:**\n",
    "\n",
    "- **Extensive Documentation and Resources:** Python has a vast amount of documentation, tutorials, and online resources available. This makes it easier to find help and learn from others.\n",
    "- **Supportive Community:** The Python community is large, active, and welcoming, offering support to developers of all levels.\n",
    "\n"
   ]
  },
  {
   "cell_type": "markdown",
   "metadata": {},
   "source": [
    "\n",
    "14) how is memory managed in python ?"
   ]
  },
  {
   "cell_type": "markdown",
   "metadata": {},
   "source": [
    "In Python, memory management is handled automatically by the interpreter, unlike languages where you might need to manually allocate and deallocate memory. This simplifies development and reduces the risk of memory leaks or errors.\n",
    "\n",
    "Here's a breakdown of how Python manages memory:\n",
    "\n",
    "**Private Heap:**\n",
    "\n",
    "- Python maintains a private heap, a dedicated region of memory used to store objects and data structures created during program execution.\n",
    "- When you create a variable, a function, or any other object in Python, the interpreter allocates memory for it from this private heap.\n",
    "\n",
    "**Automatic Memory Allocation and Deallocation:**\n",
    "\n",
    "- The Python interpreter automatically manages the allocation and deallocation of memory in the heap.\n",
    "- When you create an object, the interpreter allocates the necessary memory from the heap.\n",
    "- When the object is no longer referenced and deemed no longer in use (garbage collection), the interpreter reclaims the memory associated with it, making it available for other objects.\n",
    "\n",
    "**Garbage Collection:**\n",
    "\n",
    "- Python's garbage collector is a background process that identifies and reclaims memory occupied by unused objects.\n",
    "- It uses a combination of techniques like reference counting and reachability analysis to determine when an object is no longer accessible and can be safely removed from memory.\n",
    "\n",
    "**Key Points:**\n",
    "\n",
    "- You don't have to explicitly allocate or deallocate memory in most cases.\n",
    "- This automatic memory management simplifies development and reduces the risk of memory-related errors.\n",
    "- However, understanding the basics of garbage collection can help you write more memory-efficient Python code.\n",
    "\n",
    "**How to Avoid Memory Issues:**\n",
    "\n",
    "- **Managing Large Objects:** If you're working with large datasets or objects, be mindful of their memory usage. Consider using techniques like iterators or generators to process data in smaller chunks.\n",
    "- **Circular References:** If objects hold references to each other in a circular fashion, they might not be garbage collected even if they are no longer actively used. Break these circular references when appropriate.\n"
   ]
  },
  {
   "cell_type": "markdown",
   "metadata": {},
   "source": [
    "15. how to instal python on windows and set path variables?"
   ]
  },
  {
   "cell_type": "markdown",
   "metadata": {},
   "source": [
    "Here's a detailed guide on installing Python on Windows and setting the path variables:\n",
    "\n",
    "**Installing Python:**\n",
    "\n",
    "1. **Download the Installer:** Head over to the official Python downloads page: [https://www.python.org/downloads/windows/](https://www.python.org/downloads/windows/)\n",
    "2. **Choose the installer version:** \n",
    "    - **Latest Stable Release:** This is recommended for most users.\n",
    "    - **Specific Version:** If you need a particular version due to project requirements, choose the appropriate one.\n",
    "3. **Download the appropriate installer:** Download the installer that matches your system architecture (32-bit or 64-bit). You can usually check your system architecture by going to your system settings or searching online.\n",
    "4. **Run the installer:** Double-click the downloaded installer file.\n",
    "5. **Installation Options:** During installation, make sure to check the box next to \"Add Python 3.x to PATH\" (where x is the version number). This is crucial for accessing Python from the command line later.\n",
    "6. **Complete the Installation:** Follow the on-screen instructions to complete the installation process.\n",
    "\n",
    "**Verifying Installation:**\n",
    "\n",
    "1. **Open Command Prompt:** Search for \"Command Prompt\" or \"cmd\" in the Windows search bar and open it.\n",
    "2. **Check Python Version:** Type `python --version` or `python3 --version` and press Enter. If Python is installed correctly, you should see the installed Python version displayed.\n",
    "\n",
    "**Setting Path Variables (if not selected during installation):**\n",
    "\n",
    "1. **Right-Click \"This PC\" or \"My Computer\":** Locate \"This PC\" (Windows 10/11) or \"My Computer\" (older versions) and right-click on it.\n",
    "2. **Select Properties:** Choose \"Properties\" from the right-click menu.\n",
    "3. **Advanced System Settings:** Click on \"Advanced system settings\" in the left-hand pane.\n",
    "4. **Environment Variables:** Click on the \"Environment Variables\" button.\n",
    "5. **System variables:** Under \"System variables,\" find the variable named \"Path\" and click \"Edit.\"\n",
    "6. **Add Python Path:** If the path to your Python installation directory (e.g., `C:\\Users\\<username>\\AppData\\Local\\Programs\\Python\\Python3x`) is not already listed, click \"New\" and add it. Separate existing paths with semicolons (`;`).\n",
    "7. **Save Changes:** Click \"OK\" on all open windows to save the changes.\n",
    "\n",
    "**Verifying Path Addition (Optional):**\n",
    "\n",
    "1. **Open Command Prompt:** Open a new Command Prompt window.\n",
    "2. **Test Python:** Type `python` or `python3` and press Enter. If the path is set correctly, you should see the Python interactive prompt (>>>).\n",
    "\n"
   ]
  },
  {
   "cell_type": "markdown",
   "metadata": {},
   "source": [
    "16. is indentation required in pyhton?"
   ]
  },
  {
   "cell_type": "markdown",
   "metadata": {},
   "source": [
    "Yes, indentation is **required** in Python. It's a fundamental part of the syntax and is used to define code blocks. Unlike some other languages that use curly braces (`{}`) for block delimiters, Python relies on whitespace indentation.\n",
    "\n",
    "Here's why indentation is important:\n",
    "\n",
    "- **Defines Code Blocks:** Indentation determines which lines of code belong to a particular statement (like `if`, `for`, `while`) or function definition. Consistent indentation is crucial for readability and proper program execution.\n",
    "- **Structured Code:** Proper indentation makes your code visually clear and easier to understand. It shows the nesting of code blocks and the flow of logic.\n",
    "- **Syntax Errors:** Incorrect indentation will lead to syntax errors during program execution. Python interprets misplaced indentation as a structural mistake and raises an error.\n",
    "\n",
    "\n",
    "\n",
    "python\n"
   ]
  },
  {
   "cell_type": "code",
   "execution_count": 5,
   "metadata": {},
   "outputs": [
    {
     "name": "stdout",
     "output_type": "stream",
     "text": [
      "x is greater than 3\n",
      "The value of x is: 5\n"
     ]
    }
   ],
   "source": [
    "x = 5  # This line assigns the value 5 to the variable x\n",
    "\n",
    "if x > 3:  # Indented block for the if statement\n",
    "    print(\"x is greater than 3\")\n",
    "else:  # Indented block for the else statement\n",
    "    print(\"x is less than or equal to 3\")\n",
    "\n",
    "# This line is outside the if statement block\n",
    "print(\"The value of x is:\", x)\n"
   ]
  }
 ],
 "metadata": {
  "kernelspec": {
   "display_name": "Python 3",
   "language": "python",
   "name": "python3"
  },
  "language_info": {
   "codemirror_mode": {
    "name": "ipython",
    "version": 3
   },
   "file_extension": ".py",
   "mimetype": "text/x-python",
   "name": "python",
   "nbconvert_exporter": "python",
   "pygments_lexer": "ipython3",
   "version": "3.12.2"
  }
 },
 "nbformat": 4,
 "nbformat_minor": 2
}
